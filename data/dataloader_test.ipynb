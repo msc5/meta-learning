{
 "cells": [
  {
   "cell_type": "code",
   "execution_count": 2,
   "metadata": {},
   "outputs": [],
   "source": [
    "import torch\n",
    "\n",
    "import matplotlib.pyplot as plt\n",
    "\n",
    "from torchvision.datasets import Omniglot\n",
    "from torchvision.transforms import ToTensor, Resize, Compose\n",
    "\n",
    "from torch.utils.data import Dataset, DataLoader\n",
    "import numpy as np"
   ]
  },
  {
   "cell_type": "code",
   "execution_count": 3,
   "metadata": {},
   "outputs": [],
   "source": [
    "# transforms = Compose([Resize(28), ToTensor()])\n",
    "# train_data = Omniglot('./datasets/omniglot', background=True, download=True, transform=transforms)"
   ]
  },
  {
   "cell_type": "code",
   "execution_count": 4,
   "metadata": {},
   "outputs": [],
   "source": [
    "# transform data outside this class\n",
    "class OmniglotDataset(Dataset):\n",
    "\n",
    "    def __init__(self, background: bool, device):\n",
    "        '''\n",
    "        background: True = use background set, otherwise evaluation set\n",
    "        '''\n",
    "        self.device = device\n",
    "        self.examples_per_char = 20\n",
    "        self.ds = Omniglot(\n",
    "            'datasets/omniglot',\n",
    "            background=background,\n",
    "            download=True,\n",
    "            transform=Compose([Resize(28), ToTensor()])\n",
    "        )\n",
    "\n",
    "    def __len__(self):\n",
    "        return int(len(self.ds) / self.examples_per_char)\n",
    "\n",
    "    # each item is all images of a character (a class): there are 20 images per character and each image is (channel, height, width), so each item is (20, channel, height, width). Since all the images are the same character, the label is an integer, namely the index associated with this item.\n",
    "    def __getitem__(self, i):\n",
    "        a = i * self.examples_per_char\n",
    "        b = a + self.examples_per_char\n",
    "        index = torch.arange(a, b, 1).tolist()\n",
    "        x = torch.cat([self.ds[j][0].unsqueeze(0) for j in index])\n",
    "        return x.to(self.device), i\n"
   ]
  },
  {
   "cell_type": "code",
   "execution_count": 5,
   "metadata": {},
   "outputs": [],
   "source": [
    "device = \"cuda\" if torch.cuda.is_available() else \"cpu\""
   ]
  },
  {
   "cell_type": "code",
   "execution_count": 6,
   "metadata": {},
   "outputs": [
    {
     "name": "stdout",
     "output_type": "stream",
     "text": [
      "Files already downloaded and verified\n",
      "Downloading https://raw.githubusercontent.com/brendenlake/omniglot/master/python/images_evaluation.zip to datasets/omniglot/omniglot-py/images_evaluation.zip\n"
     ]
    },
    {
     "name": "stderr",
     "output_type": "stream",
     "text": [
      "6463488it [00:00, 18708771.83it/s]                             \n"
     ]
    },
    {
     "name": "stdout",
     "output_type": "stream",
     "text": [
      "Extracting datasets/omniglot/omniglot-py/images_evaluation.zip to datasets/omniglot/omniglot-py\n"
     ]
    }
   ],
   "source": [
    "train_data = OmniglotDataset(background=True, device=device)\n",
    "test_data = OmniglotDataset(background=False, device=device)"
   ]
  },
  {
   "cell_type": "code",
   "execution_count": 7,
   "metadata": {},
   "outputs": [
    {
     "name": "stdout",
     "output_type": "stream",
     "text": [
      "964\n",
      "659\n"
     ]
    }
   ],
   "source": [
    "print(len(train_data))\n",
    "print(len(test_data))"
   ]
  },
  {
   "cell_type": "code",
   "execution_count": 75,
   "metadata": {},
   "outputs": [],
   "source": [
    "train_dataloader = DataLoader(train_data, batch_size=128)"
   ]
  },
  {
   "cell_type": "code",
   "execution_count": 76,
   "metadata": {},
   "outputs": [
    {
     "name": "stdout",
     "output_type": "stream",
     "text": [
      "Shape of X:  torch.Size([128, 20, 1, 28, 28]) torch.float32\n",
      "Shape of y:  torch.Size([128]) torch.int64\n"
     ]
    }
   ],
   "source": [
    "for X, y in train_dataloader:\n",
    "  print(\"Shape of X: \", X.shape, X.dtype)\n",
    "  print(\"Shape of y: \", y.shape, y.dtype)\n",
    "  break\n"
   ]
  },
  {
   "cell_type": "code",
   "execution_count": 35,
   "metadata": {},
   "outputs": [
    {
     "name": "stdout",
     "output_type": "stream",
     "text": [
      "tensor([[[1., 1., 1.,  ..., 1., 1., 1.],\n",
      "         [1., 1., 1.,  ..., 1., 1., 1.],\n",
      "         [1., 1., 1.,  ..., 1., 1., 1.],\n",
      "         ...,\n",
      "         [1., 1., 1.,  ..., 1., 1., 1.],\n",
      "         [1., 1., 1.,  ..., 1., 1., 1.],\n",
      "         [1., 1., 1.,  ..., 1., 1., 1.]]])\n",
      "tensor([[[1., 1., 1.,  ..., 1., 1., 1.],\n",
      "         [1., 1., 1.,  ..., 1., 1., 1.],\n",
      "         [1., 1., 1.,  ..., 1., 1., 1.],\n",
      "         ...,\n",
      "         [1., 1., 1.,  ..., 1., 1., 1.],\n",
      "         [1., 1., 1.,  ..., 1., 1., 1.],\n",
      "         [1., 1., 1.,  ..., 1., 1., 1.]]])\n",
      "0\n",
      "torch.Size([1, 105, 105])\n"
     ]
    }
   ],
   "source": [
    "print(image1)\n",
    "print(image2)\n",
    "print(label)\n",
    "print(image.shape)"
   ]
  },
  {
   "cell_type": "code",
   "execution_count": 34,
   "metadata": {},
   "outputs": [
    {
     "name": "stdout",
     "output_type": "stream",
     "text": [
      "False\n"
     ]
    }
   ],
   "source": [
    "print(np.array_equal(image1, image2))"
   ]
  },
  {
   "cell_type": "code",
   "execution_count": 37,
   "metadata": {},
   "outputs": [
    {
     "name": "stdout",
     "output_type": "stream",
     "text": [
      "964.0\n"
     ]
    }
   ],
   "source": [
    "print(len(train_data)/20)"
   ]
  },
  {
   "cell_type": "code",
   "execution_count": 38,
   "metadata": {},
   "outputs": [
    {
     "data": {
      "text/plain": [
       "tensor([ 0,  1,  2,  3,  4,  5,  6,  7,  8,  9, 10, 11, 12, 13, 14, 15, 16, 17,\n",
       "        18, 19])"
      ]
     },
     "execution_count": 38,
     "metadata": {},
     "output_type": "execute_result"
    }
   ],
   "source": [
    "torch.arange(0, 20, 1)"
   ]
  },
  {
   "cell_type": "code",
   "execution_count": 56,
   "metadata": {},
   "outputs": [
    {
     "name": "stdout",
     "output_type": "stream",
     "text": [
      "[0, 0, 0, 0, 0, 0, 0, 0, 0, 0, 0, 0, 0, 0, 0, 0, 0, 0, 0, 0, 1, 1, 1, 1, 1, 1, 1, 1, 1, 1, 1, 1, 1, 1, 1, 1, 1, 1, 1, 1, 2, 2, 2, 2, 2, 2, 2, 2, 2, 2]\n",
      "50\n"
     ]
    }
   ],
   "source": [
    "i = 0\n",
    "a = i * 20\n",
    "b = a + 50\n",
    "index = torch.arange(a, b, 1).tolist()\n",
    "x = torch.cat([train_data[j][0].unsqueeze(0) for j in index])\n",
    "y = [train_data[j][1] for j in index]\n",
    "print(y)\n",
    "print(len(y))\n"
   ]
  },
  {
   "cell_type": "code",
   "execution_count": 27,
   "metadata": {},
   "outputs": [
    {
     "name": "stdout",
     "output_type": "stream",
     "text": [
      "tensor([[[[[8.0997e-02, 4.2193e-01, 8.1334e-01],\n",
      "           [1.2969e-01, 4.2988e-01, 1.2039e-01],\n",
      "           [4.6172e-01, 7.4664e-01, 1.8254e-02]]],\n",
      "\n",
      "\n",
      "         [[[5.8016e-01, 9.5926e-01, 9.3822e-01],\n",
      "           [1.0973e-01, 1.3439e-01, 4.8388e-02],\n",
      "           [2.8419e-01, 7.5943e-01, 9.1863e-01]]],\n",
      "\n",
      "\n",
      "         [[[6.4715e-01, 7.2249e-01, 8.6136e-01],\n",
      "           [9.3812e-01, 6.0957e-01, 8.1645e-01],\n",
      "           [7.4185e-01, 8.6372e-01, 6.5094e-01]]],\n",
      "\n",
      "\n",
      "         [[[4.8270e-01, 9.3351e-02, 2.8065e-02],\n",
      "           [7.4571e-01, 2.9880e-01, 6.0708e-01],\n",
      "           [8.4472e-01, 2.2107e-01, 6.6672e-01]]],\n",
      "\n",
      "\n",
      "         [[[6.5210e-01, 8.3995e-01, 3.4862e-01],\n",
      "           [5.9103e-01, 3.1147e-01, 9.2754e-01],\n",
      "           [2.8013e-01, 5.2364e-01, 3.7105e-01]]]],\n",
      "\n",
      "\n",
      "\n",
      "        [[[[5.1782e-01, 7.9067e-01, 6.5458e-01],\n",
      "           [9.0733e-01, 9.8703e-01, 3.1219e-01],\n",
      "           [1.0280e-01, 4.7866e-01, 7.8595e-01]]],\n",
      "\n",
      "\n",
      "         [[[9.1416e-01, 5.3393e-02, 7.4905e-01],\n",
      "           [4.3032e-02, 1.1632e-01, 2.1146e-01],\n",
      "           [9.4156e-01, 8.7554e-01, 5.9280e-01]]],\n",
      "\n",
      "\n",
      "         [[[7.3688e-01, 6.7782e-01, 6.4511e-01],\n",
      "           [9.6443e-01, 8.1893e-01, 3.5110e-03],\n",
      "           [6.2811e-01, 1.2414e-01, 7.8535e-01]]],\n",
      "\n",
      "\n",
      "         [[[6.8695e-01, 4.7446e-01, 4.5077e-01],\n",
      "           [7.5500e-01, 8.1139e-02, 2.4795e-01],\n",
      "           [4.3887e-01, 2.2058e-01, 5.8287e-01]]],\n",
      "\n",
      "\n",
      "         [[[3.8711e-01, 6.9819e-01, 6.6811e-02],\n",
      "           [2.4351e-01, 3.7629e-01, 8.0771e-01],\n",
      "           [9.8077e-01, 6.0688e-01, 5.9718e-02]]]],\n",
      "\n",
      "\n",
      "\n",
      "        [[[[5.3296e-01, 7.0878e-01, 8.3237e-01],\n",
      "           [3.1430e-01, 5.6688e-01, 6.2047e-01],\n",
      "           [2.6301e-01, 6.4964e-01, 7.7954e-01]]],\n",
      "\n",
      "\n",
      "         [[[4.6342e-01, 9.8265e-01, 7.8700e-01],\n",
      "           [4.5493e-01, 6.5368e-01, 1.1934e-01],\n",
      "           [7.9013e-01, 7.2211e-04, 9.6946e-01]]],\n",
      "\n",
      "\n",
      "         [[[6.0516e-01, 6.7071e-01, 6.7424e-01],\n",
      "           [1.8965e-01, 7.8895e-01, 8.1341e-02],\n",
      "           [2.8364e-01, 4.4301e-01, 6.7652e-01]]],\n",
      "\n",
      "\n",
      "         [[[4.6602e-01, 2.6002e-01, 3.9991e-01],\n",
      "           [6.3867e-01, 8.9948e-01, 6.0459e-01],\n",
      "           [3.0380e-01, 9.5577e-01, 5.1520e-01]]],\n",
      "\n",
      "\n",
      "         [[[5.5502e-01, 6.5275e-01, 1.0656e-02],\n",
      "           [7.2658e-01, 2.6318e-01, 9.1056e-01],\n",
      "           [7.8047e-01, 3.4750e-01, 8.7981e-01]]]]])\n",
      "tensor([[[[8.0997e-02, 4.2193e-01, 8.1334e-01],\n",
      "          [1.2969e-01, 4.2988e-01, 1.2039e-01],\n",
      "          [4.6172e-01, 7.4664e-01, 1.8254e-02]]],\n",
      "\n",
      "\n",
      "        [[[5.8016e-01, 9.5926e-01, 9.3822e-01],\n",
      "          [1.0973e-01, 1.3439e-01, 4.8388e-02],\n",
      "          [2.8419e-01, 7.5943e-01, 9.1863e-01]]],\n",
      "\n",
      "\n",
      "        [[[6.4715e-01, 7.2249e-01, 8.6136e-01],\n",
      "          [9.3812e-01, 6.0957e-01, 8.1645e-01],\n",
      "          [7.4185e-01, 8.6372e-01, 6.5094e-01]]],\n",
      "\n",
      "\n",
      "        [[[4.8270e-01, 9.3351e-02, 2.8065e-02],\n",
      "          [7.4571e-01, 2.9880e-01, 6.0708e-01],\n",
      "          [8.4472e-01, 2.2107e-01, 6.6672e-01]]],\n",
      "\n",
      "\n",
      "        [[[6.5210e-01, 8.3995e-01, 3.4862e-01],\n",
      "          [5.9103e-01, 3.1147e-01, 9.2754e-01],\n",
      "          [2.8013e-01, 5.2364e-01, 3.7105e-01]]],\n",
      "\n",
      "\n",
      "        [[[5.1782e-01, 7.9067e-01, 6.5458e-01],\n",
      "          [9.0733e-01, 9.8703e-01, 3.1219e-01],\n",
      "          [1.0280e-01, 4.7866e-01, 7.8595e-01]]],\n",
      "\n",
      "\n",
      "        [[[9.1416e-01, 5.3393e-02, 7.4905e-01],\n",
      "          [4.3032e-02, 1.1632e-01, 2.1146e-01],\n",
      "          [9.4156e-01, 8.7554e-01, 5.9280e-01]]],\n",
      "\n",
      "\n",
      "        [[[7.3688e-01, 6.7782e-01, 6.4511e-01],\n",
      "          [9.6443e-01, 8.1893e-01, 3.5110e-03],\n",
      "          [6.2811e-01, 1.2414e-01, 7.8535e-01]]],\n",
      "\n",
      "\n",
      "        [[[6.8695e-01, 4.7446e-01, 4.5077e-01],\n",
      "          [7.5500e-01, 8.1139e-02, 2.4795e-01],\n",
      "          [4.3887e-01, 2.2058e-01, 5.8287e-01]]],\n",
      "\n",
      "\n",
      "        [[[3.8711e-01, 6.9819e-01, 6.6811e-02],\n",
      "          [2.4351e-01, 3.7629e-01, 8.0771e-01],\n",
      "          [9.8077e-01, 6.0688e-01, 5.9718e-02]]],\n",
      "\n",
      "\n",
      "        [[[5.3296e-01, 7.0878e-01, 8.3237e-01],\n",
      "          [3.1430e-01, 5.6688e-01, 6.2047e-01],\n",
      "          [2.6301e-01, 6.4964e-01, 7.7954e-01]]],\n",
      "\n",
      "\n",
      "        [[[4.6342e-01, 9.8265e-01, 7.8700e-01],\n",
      "          [4.5493e-01, 6.5368e-01, 1.1934e-01],\n",
      "          [7.9013e-01, 7.2211e-04, 9.6946e-01]]],\n",
      "\n",
      "\n",
      "        [[[6.0516e-01, 6.7071e-01, 6.7424e-01],\n",
      "          [1.8965e-01, 7.8895e-01, 8.1341e-02],\n",
      "          [2.8364e-01, 4.4301e-01, 6.7652e-01]]],\n",
      "\n",
      "\n",
      "        [[[4.6602e-01, 2.6002e-01, 3.9991e-01],\n",
      "          [6.3867e-01, 8.9948e-01, 6.0459e-01],\n",
      "          [3.0380e-01, 9.5577e-01, 5.1520e-01]]],\n",
      "\n",
      "\n",
      "        [[[5.5502e-01, 6.5275e-01, 1.0656e-02],\n",
      "          [7.2658e-01, 2.6318e-01, 9.1056e-01],\n",
      "          [7.8047e-01, 3.4750e-01, 8.7981e-01]]]])\n"
     ]
    }
   ],
   "source": [
    "arr1 = torch.rand(3, 5, 1, 3, 3)\n",
    "print(arr1)\n",
    "arr1 = arr1.view(-1, 1, 3, 3)\n",
    "print(arr1)"
   ]
  },
  {
   "cell_type": "code",
   "execution_count": 24,
   "metadata": {},
   "outputs": [
    {
     "name": "stdout",
     "output_type": "stream",
     "text": [
      "torch.Size([3, 5, 1, 3, 3])\n"
     ]
    }
   ],
   "source": [
    "print(arr1.shape)"
   ]
  },
  {
   "cell_type": "code",
   "execution_count": 26,
   "metadata": {},
   "outputs": [
    {
     "name": "stdout",
     "output_type": "stream",
     "text": [
      "tensor([[[[0.8254, 0.2062, 0.4414],\n",
      "          [0.1693, 0.1156, 0.1034],\n",
      "          [0.3556, 0.7355, 0.5341]]],\n",
      "\n",
      "\n",
      "        [[[0.1149, 0.9736, 0.4648],\n",
      "          [0.5248, 0.6283, 0.2747],\n",
      "          [0.2308, 0.8994, 0.9189]]],\n",
      "\n",
      "\n",
      "        [[[0.6436, 0.6326, 0.8499],\n",
      "          [0.5793, 0.1320, 0.5639],\n",
      "          [0.1219, 0.1503, 0.1626]]],\n",
      "\n",
      "\n",
      "        [[[0.4525, 0.4057, 0.9199],\n",
      "          [0.6694, 0.0708, 0.6379],\n",
      "          [0.5464, 0.3954, 0.6731]]],\n",
      "\n",
      "\n",
      "        [[[0.3775, 0.9449, 0.1084],\n",
      "          [0.0610, 0.1772, 0.7075],\n",
      "          [0.9018, 0.3233, 0.3586]]],\n",
      "\n",
      "\n",
      "        [[[0.4487, 0.1838, 0.1892],\n",
      "          [0.0532, 0.5683, 0.5177],\n",
      "          [0.1140, 0.5543, 0.2802]]],\n",
      "\n",
      "\n",
      "        [[[0.0739, 0.5391, 0.3034],\n",
      "          [0.6709, 0.8047, 0.9850],\n",
      "          [0.9480, 0.0222, 0.2088]]],\n",
      "\n",
      "\n",
      "        [[[0.6417, 0.3245, 0.5681],\n",
      "          [0.8841, 0.1992, 0.2314],\n",
      "          [0.8945, 0.5146, 0.5665]]],\n",
      "\n",
      "\n",
      "        [[[0.5854, 0.7760, 0.8065],\n",
      "          [0.4896, 0.7638, 0.5972],\n",
      "          [0.9444, 0.9582, 0.0985]]],\n",
      "\n",
      "\n",
      "        [[[0.0750, 0.1417, 0.7313],\n",
      "          [0.6098, 0.9997, 0.8171],\n",
      "          [0.6495, 0.4508, 0.9796]]],\n",
      "\n",
      "\n",
      "        [[[0.1213, 0.0932, 0.9338],\n",
      "          [0.8515, 0.6768, 0.6661],\n",
      "          [0.8804, 0.1533, 0.2104]]],\n",
      "\n",
      "\n",
      "        [[[0.9236, 0.9926, 0.8610],\n",
      "          [0.4354, 0.0420, 0.8940],\n",
      "          [0.2156, 0.8875, 0.6890]]],\n",
      "\n",
      "\n",
      "        [[[0.7272, 0.2264, 0.2672],\n",
      "          [0.8702, 0.9288, 0.3598],\n",
      "          [0.2009, 0.3076, 0.5688]]],\n",
      "\n",
      "\n",
      "        [[[0.4690, 0.8866, 0.9640],\n",
      "          [0.9780, 0.8654, 0.1909],\n",
      "          [0.1297, 0.0847, 0.6594]]],\n",
      "\n",
      "\n",
      "        [[[0.3462, 0.8681, 0.2289],\n",
      "          [0.5565, 0.4041, 0.3699],\n",
      "          [0.1187, 0.2025, 0.3938]]]])\n",
      "torch.Size([15, 1, 3, 3])\n"
     ]
    }
   ],
   "source": [
    "arr1 = arr1.view(-1, 1, 3, 3)\n",
    "print(arr1)\n",
    "print(arr1.shape)"
   ]
  },
  {
   "cell_type": "code",
   "execution_count": 28,
   "metadata": {},
   "outputs": [],
   "source": [
    "arr2 = torch.rand(2, 3, 2, 2)"
   ]
  },
  {
   "cell_type": "code",
   "execution_count": 36,
   "metadata": {},
   "outputs": [
    {
     "name": "stdout",
     "output_type": "stream",
     "text": [
      "tensor([[[[0.1456, 0.3708],\n",
      "          [0.7828, 0.9570]],\n",
      "\n",
      "         [[0.3080, 0.5535],\n",
      "          [0.8589, 0.3495]],\n",
      "\n",
      "         [[0.9205, 0.7702],\n",
      "          [0.9663, 0.1048]]],\n",
      "\n",
      "\n",
      "        [[[0.4162, 0.1656],\n",
      "          [0.7065, 0.3462]],\n",
      "\n",
      "         [[0.4843, 0.5078],\n",
      "          [0.1471, 0.3288]],\n",
      "\n",
      "         [[0.9974, 0.5821],\n",
      "          [0.5965, 0.6928]]]])\n",
      "\n",
      "tensor([[[[[0.1456, 0.3708],\n",
      "           [0.7828, 0.9570]],\n",
      "\n",
      "          [[0.3080, 0.5535],\n",
      "           [0.8589, 0.3495]],\n",
      "\n",
      "          [[0.9205, 0.7702],\n",
      "           [0.9663, 0.1048]]],\n",
      "\n",
      "\n",
      "         [[[0.4162, 0.1656],\n",
      "           [0.7065, 0.3462]],\n",
      "\n",
      "          [[0.4843, 0.5078],\n",
      "           [0.1471, 0.3288]],\n",
      "\n",
      "          [[0.9974, 0.5821],\n",
      "           [0.5965, 0.6928]]]],\n",
      "\n",
      "\n",
      "\n",
      "        [[[[0.1456, 0.3708],\n",
      "           [0.7828, 0.9570]],\n",
      "\n",
      "          [[0.3080, 0.5535],\n",
      "           [0.8589, 0.3495]],\n",
      "\n",
      "          [[0.9205, 0.7702],\n",
      "           [0.9663, 0.1048]]],\n",
      "\n",
      "\n",
      "         [[[0.4162, 0.1656],\n",
      "           [0.7065, 0.3462]],\n",
      "\n",
      "          [[0.4843, 0.5078],\n",
      "           [0.1471, 0.3288]],\n",
      "\n",
      "          [[0.9974, 0.5821],\n",
      "           [0.5965, 0.6928]]]],\n",
      "\n",
      "\n",
      "\n",
      "        [[[[0.1456, 0.3708],\n",
      "           [0.7828, 0.9570]],\n",
      "\n",
      "          [[0.3080, 0.5535],\n",
      "           [0.8589, 0.3495]],\n",
      "\n",
      "          [[0.9205, 0.7702],\n",
      "           [0.9663, 0.1048]]],\n",
      "\n",
      "\n",
      "         [[[0.4162, 0.1656],\n",
      "           [0.7065, 0.3462]],\n",
      "\n",
      "          [[0.4843, 0.5078],\n",
      "           [0.1471, 0.3288]],\n",
      "\n",
      "          [[0.9974, 0.5821],\n",
      "           [0.5965, 0.6928]]]],\n",
      "\n",
      "\n",
      "\n",
      "        [[[[0.1456, 0.3708],\n",
      "           [0.7828, 0.9570]],\n",
      "\n",
      "          [[0.3080, 0.5535],\n",
      "           [0.8589, 0.3495]],\n",
      "\n",
      "          [[0.9205, 0.7702],\n",
      "           [0.9663, 0.1048]]],\n",
      "\n",
      "\n",
      "         [[[0.4162, 0.1656],\n",
      "           [0.7065, 0.3462]],\n",
      "\n",
      "          [[0.4843, 0.5078],\n",
      "           [0.1471, 0.3288]],\n",
      "\n",
      "          [[0.9974, 0.5821],\n",
      "           [0.5965, 0.6928]]]]])\n"
     ]
    }
   ],
   "source": [
    "print(arr2)\n",
    "print()\n",
    "print(arr2.repeat(4, 1, 1, 1, 1))"
   ]
  },
  {
   "cell_type": "code",
   "execution_count": 31,
   "metadata": {},
   "outputs": [
    {
     "name": "stdout",
     "output_type": "stream",
     "text": [
      "torch.Size([2, 3, 2, 2])\n"
     ]
    }
   ],
   "source": [
    "print(arr2.shape)"
   ]
  },
  {
   "cell_type": "code",
   "execution_count": 38,
   "metadata": {},
   "outputs": [
    {
     "name": "stdout",
     "output_type": "stream",
     "text": [
      "tensor([[1., 0., 0., 0., 0.],\n",
      "        [1., 0., 0., 0., 0.],\n",
      "        [1., 0., 0., 0., 0.],\n",
      "        [1., 0., 0., 0., 0.],\n",
      "        [0., 1., 0., 0., 0.],\n",
      "        [0., 1., 0., 0., 0.],\n",
      "        [0., 1., 0., 0., 0.],\n",
      "        [0., 1., 0., 0., 0.],\n",
      "        [0., 0., 1., 0., 0.],\n",
      "        [0., 0., 1., 0., 0.],\n",
      "        [0., 0., 1., 0., 0.],\n",
      "        [0., 0., 1., 0., 0.],\n",
      "        [0., 0., 0., 1., 0.],\n",
      "        [0., 0., 0., 1., 0.],\n",
      "        [0., 0., 0., 1., 0.],\n",
      "        [0., 0., 0., 1., 0.],\n",
      "        [0., 0., 0., 0., 1.],\n",
      "        [0., 0., 0., 0., 1.],\n",
      "        [0., 0., 0., 0., 1.],\n",
      "        [0., 0., 0., 0., 1.]])\n"
     ]
    }
   ],
   "source": [
    "k = 5\n",
    "n = 4\n",
    "y = torch.eye(k).repeat_interleave(n, dim=0)\n",
    "print(y)"
   ]
  },
  {
   "cell_type": "code",
   "execution_count": 39,
   "metadata": {},
   "outputs": [
    {
     "name": "stdout",
     "output_type": "stream",
     "text": [
      "tensor([0, 0, 0, 0, 1, 1, 1, 1, 2, 2, 2, 2, 3, 3, 3, 3, 4, 4, 4, 4])\n"
     ]
    }
   ],
   "source": [
    "target_labels = y.argmax(dim=1)\n",
    "print(target_labels)"
   ]
  },
  {
   "cell_type": "code",
   "execution_count": 40,
   "metadata": {},
   "outputs": [
    {
     "name": "stdout",
     "output_type": "stream",
     "text": [
      "20\n"
     ]
    }
   ],
   "source": [
    "print(len(target_labels))"
   ]
  },
  {
   "cell_type": "code",
   "execution_count": 41,
   "metadata": {},
   "outputs": [
    {
     "name": "stdout",
     "output_type": "stream",
     "text": [
      "torch.Size([20, 5])\n"
     ]
    }
   ],
   "source": [
    "print(y.shape)"
   ]
  },
  {
   "cell_type": "code",
   "execution_count": 7,
   "metadata": {},
   "outputs": [
    {
     "name": "stdout",
     "output_type": "stream",
     "text": [
      "[0 1 2 3 4]\n",
      "\n",
      "{314: 0, 32: 1, 562: 2, 171: 3, 5: 4}\n"
     ]
    }
   ],
   "source": [
    "class_folders = [314, 32, 562, 171, 5]\n",
    "labels = np.array(range(5))\n",
    "print(labels)\n",
    "print()\n",
    "labels = dict(zip(class_folders, labels))\n",
    "print(labels)"
   ]
  },
  {
   "cell_type": "code",
   "execution_count": 16,
   "metadata": {},
   "outputs": [
    {
     "data": {
      "text/plain": [
       "tensor([[1., 0., 0., 0., 0.],\n",
       "        [1., 0., 0., 0., 0.],\n",
       "        [1., 0., 0., 0., 0.],\n",
       "        [1., 0., 0., 0., 0.],\n",
       "        [0., 1., 0., 0., 0.],\n",
       "        [0., 1., 0., 0., 0.],\n",
       "        [0., 1., 0., 0., 0.],\n",
       "        [0., 1., 0., 0., 0.],\n",
       "        [0., 0., 1., 0., 0.],\n",
       "        [0., 0., 1., 0., 0.],\n",
       "        [0., 0., 1., 0., 0.],\n",
       "        [0., 0., 1., 0., 0.],\n",
       "        [0., 0., 0., 1., 0.],\n",
       "        [0., 0., 0., 1., 0.],\n",
       "        [0., 0., 0., 1., 0.],\n",
       "        [0., 0., 0., 1., 0.],\n",
       "        [0., 0., 0., 0., 1.],\n",
       "        [0., 0., 0., 0., 1.],\n",
       "        [0., 0., 0., 0., 1.],\n",
       "        [0., 0., 0., 0., 1.]])"
      ]
     },
     "execution_count": 16,
     "metadata": {},
     "output_type": "execute_result"
    }
   ],
   "source": [
    "torch.eye(5).repeat_interleave(4, dim=0)"
   ]
  },
  {
   "cell_type": "code",
   "execution_count": 10,
   "metadata": {},
   "outputs": [],
   "source": [
    "arr1 = torch.rand(3, 1, 2, 3, 3)"
   ]
  },
  {
   "cell_type": "code",
   "execution_count": 11,
   "metadata": {},
   "outputs": [
    {
     "name": "stdout",
     "output_type": "stream",
     "text": [
      "tensor([[[[[0.8332, 0.3807, 0.6383],\n",
      "           [0.4811, 0.3465, 0.3542],\n",
      "           [0.5666, 0.5240, 0.7081]],\n",
      "\n",
      "          [[0.4694, 0.3827, 0.0848],\n",
      "           [0.6445, 0.7771, 0.5237],\n",
      "           [0.3178, 0.1932, 0.4129]]]],\n",
      "\n",
      "\n",
      "\n",
      "        [[[[0.3874, 0.4644, 0.1771],\n",
      "           [0.9633, 0.7331, 0.5700],\n",
      "           [0.3572, 0.6973, 0.8108]],\n",
      "\n",
      "          [[0.5166, 0.0056, 0.2524],\n",
      "           [0.6644, 0.5498, 0.4049],\n",
      "           [0.8729, 0.2930, 0.5789]]]],\n",
      "\n",
      "\n",
      "\n",
      "        [[[[0.4650, 0.3470, 0.3959],\n",
      "           [0.9097, 0.3673, 0.6685],\n",
      "           [0.4904, 0.6084, 0.5545]],\n",
      "\n",
      "          [[0.7985, 0.8934, 0.4959],\n",
      "           [0.1574, 0.9263, 0.3108],\n",
      "           [0.7100, 0.8997, 0.4894]]]]])\n"
     ]
    }
   ],
   "source": [
    "print(arr1)"
   ]
  },
  {
   "cell_type": "code",
   "execution_count": 12,
   "metadata": {},
   "outputs": [
    {
     "name": "stdout",
     "output_type": "stream",
     "text": [
      "tensor([[[[0.8332, 0.3807, 0.6383],\n",
      "          [0.4811, 0.3465, 0.3542],\n",
      "          [0.5666, 0.5240, 0.7081]],\n",
      "\n",
      "         [[0.4694, 0.3827, 0.0848],\n",
      "          [0.6445, 0.7771, 0.5237],\n",
      "          [0.3178, 0.1932, 0.4129]]],\n",
      "\n",
      "\n",
      "        [[[0.3874, 0.4644, 0.1771],\n",
      "          [0.9633, 0.7331, 0.5700],\n",
      "          [0.3572, 0.6973, 0.8108]],\n",
      "\n",
      "         [[0.5166, 0.0056, 0.2524],\n",
      "          [0.6644, 0.5498, 0.4049],\n",
      "          [0.8729, 0.2930, 0.5789]]],\n",
      "\n",
      "\n",
      "        [[[0.4650, 0.3470, 0.3959],\n",
      "          [0.9097, 0.3673, 0.6685],\n",
      "          [0.4904, 0.6084, 0.5545]],\n",
      "\n",
      "         [[0.7985, 0.8934, 0.4959],\n",
      "          [0.1574, 0.9263, 0.3108],\n",
      "          [0.7100, 0.8997, 0.4894]]]])\n"
     ]
    }
   ],
   "source": [
    "arr1 = torch.sum(arr1, 1)\n",
    "print(arr1)"
   ]
  },
  {
   "cell_type": "code",
   "execution_count": null,
   "metadata": {},
   "outputs": [],
   "source": []
  }
 ],
 "metadata": {
  "interpreter": {
   "hash": "bcfcd53adc735fb58f05d1bb87ffa1304112158a624ab4f141723597603299e4"
  },
  "kernelspec": {
   "display_name": "Python 3.7.11 64-bit ('cos429': conda)",
   "language": "python",
   "name": "python3"
  },
  "language_info": {
   "codemirror_mode": {
    "name": "ipython",
    "version": 3
   },
   "file_extension": ".py",
   "mimetype": "text/x-python",
   "name": "python",
   "nbconvert_exporter": "python",
   "pygments_lexer": "ipython3",
   "version": "3.9.7"
  },
  "orig_nbformat": 4
 },
 "nbformat": 4,
 "nbformat_minor": 2
}
